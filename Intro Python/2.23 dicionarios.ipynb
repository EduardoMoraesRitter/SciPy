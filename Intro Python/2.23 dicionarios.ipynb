{
 "cells": [
  {
   "cell_type": "code",
   "execution_count": 5,
   "metadata": {
    "collapsed": false
   },
   "outputs": [
    {
     "name": "stdout",
     "output_type": "stream",
     "text": [
      "<class 'dict'>\n",
      "{'eu': 26, 'jo': 26, 'an': 28}\n",
      "26\n"
     ]
    }
   ],
   "source": [
    "dic = {'eu':26, 'jo':26, 'an':28}\n",
    "print(type(dic))\n",
    "print(dic)\n",
    "print(dic['eu'])"
   ]
  },
  {
   "cell_type": "code",
   "execution_count": 6,
   "metadata": {
    "collapsed": false
   },
   "outputs": [
    {
     "name": "stdout",
     "output_type": "stream",
     "text": [
      "{'eu': 26, 'jo': 26, 'an': 28}\n",
      "{'eu': 25, 'jo': 26, 'an': 28, 'teste': 33}\n"
     ]
    }
   ],
   "source": [
    "dic = {'eu':26, 'jo':26, 'an':28}\n",
    "print(dic)\n",
    "dic['teste'] = 33 #adicionar\n",
    "dic['eu'] = 25 #mudar\n",
    "print(dic)"
   ]
  },
  {
   "cell_type": "code",
   "execution_count": 9,
   "metadata": {
    "collapsed": false
   },
   "outputs": [
    {
     "name": "stdout",
     "output_type": "stream",
     "text": [
      "26 26 28 "
     ]
    }
   ],
   "source": [
    "d = {'eu':26, 'jo':26, 'an':28}\n",
    "for k in d:\n",
    "    print(d[k], end=' ')\n"
   ]
  },
  {
   "cell_type": "code",
   "execution_count": 10,
   "metadata": {
    "collapsed": false
   },
   "outputs": [
    {
     "name": "stdout",
     "output_type": "stream",
     "text": [
      "eu jo an "
     ]
    }
   ],
   "source": [
    "d = {'eu':26, 'jo':26, 'an':28}\n",
    "for k in d:\n",
    "    print(k, end=' ')"
   ]
  },
  {
   "cell_type": "code",
   "execution_count": 17,
   "metadata": {
    "collapsed": false
   },
   "outputs": [
    {
     "name": "stdout",
     "output_type": "stream",
     "text": [
      "dict_items([('eu', 26), ('jo', 26), ('an', 28)])\n",
      "dict_keys(['eu', 'jo', 'an'])\n",
      "dict_values([26, 26, 28])\n",
      "True\n",
      "False\n"
     ]
    }
   ],
   "source": [
    "d = {'eu':26, 'jo':26, 'an':28}\n",
    "print(d.items())\n",
    "print(d.keys())\n",
    "print(d.values())\n",
    "print('eu' in d)\n",
    "print('py' in d)"
   ]
  },
  {
   "cell_type": "code",
   "execution_count": null,
   "metadata": {
    "collapsed": true
   },
   "outputs": [],
   "source": []
  }
 ],
 "metadata": {
  "kernelspec": {
   "display_name": "Python 3",
   "language": "python",
   "name": "python3"
  },
  "language_info": {
   "codemirror_mode": {
    "name": "ipython",
    "version": 3
   },
   "file_extension": ".py",
   "mimetype": "text/x-python",
   "name": "python",
   "nbconvert_exporter": "python",
   "pygments_lexer": "ipython3",
   "version": "3.6.0"
  }
 },
 "nbformat": 4,
 "nbformat_minor": 2
}
