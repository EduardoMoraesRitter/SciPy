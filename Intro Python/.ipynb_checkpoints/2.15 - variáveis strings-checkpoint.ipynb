{
 "cells": [
  {
   "cell_type": "code",
   "execution_count": 2,
   "metadata": {
    "collapsed": false
   },
   "outputs": [
    {
     "name": "stdout",
     "output_type": "stream",
     "text": [
      "eduardo\n"
     ]
    },
    {
     "data": {
      "text/plain": [
       "str"
      ]
     },
     "execution_count": 2,
     "metadata": {},
     "output_type": "execute_result"
    }
   ],
   "source": [
    "nome = \"eduardo\"\n",
    "print(nome)\n",
    "type(nome)"
   ]
  },
  {
   "cell_type": "code",
   "execution_count": 1,
   "metadata": {
    "collapsed": false
   },
   "outputs": [
    {
     "name": "stdout",
     "output_type": "stream",
     "text": [
      "eduardo\n",
      "e\n"
     ]
    }
   ],
   "source": [
    "nome = \"eduardo\"\n",
    "print(nome)\n",
    "print(nome[0])"
   ]
  },
  {
   "cell_type": "code",
   "execution_count": 3,
   "metadata": {
    "collapsed": false
   },
   "outputs": [
    {
     "name": "stdout",
     "output_type": "stream",
     "text": [
      "o\n"
     ]
    }
   ],
   "source": [
    "nome = \"eduardo\"\n",
    "print(nome[-1])"
   ]
  },
  {
   "cell_type": "code",
   "execution_count": null,
   "metadata": {
    "collapsed": true
   },
   "outputs": [],
   "source": [
    "# str pertence a uma classe q tem varios metodos\n",
    "# >> help(str)\n",
    "# dunder metodos magicos do py\n",
    "# >> help(len)\n",
    "# __len__"
   ]
  },
  {
   "cell_type": "code",
   "execution_count": 9,
   "metadata": {
    "collapsed": false
   },
   "outputs": [
    {
     "name": "stdout",
     "output_type": "stream",
     "text": [
      "7\n",
      "7\n"
     ]
    }
   ],
   "source": [
    "nome = \"eduardo\"\n",
    "print(len(nome))\n",
    "#ou\n",
    "print(nome.__len__())"
   ]
  },
  {
   "cell_type": "code",
   "execution_count": 10,
   "metadata": {
    "collapsed": false
   },
   "outputs": [
    {
     "name": "stdout",
     "output_type": "stream",
     "text": [
      "edu\n"
     ]
    }
   ],
   "source": [
    "#fatiamento\n",
    "nome = \"eduardo\"\n",
    "print(nome[0:3])"
   ]
  },
  {
   "cell_type": "code",
   "execution_count": 13,
   "metadata": {
    "collapsed": false
   },
   "outputs": [
    {
     "name": "stdout",
     "output_type": "stream",
     "text": [
      "edu ritter\n",
      "aaa\n"
     ]
    }
   ],
   "source": [
    "#concatenacao\n",
    "print('edu '+'ritter')\n",
    "print(3*'a')"
   ]
  },
  {
   "cell_type": "code",
   "execution_count": 15,
   "metadata": {
    "collapsed": false
   },
   "outputs": [
    {
     "name": "stdout",
     "output_type": "stream",
     "text": [
      "joao tem 20 anos\n"
     ]
    }
   ],
   "source": [
    "#conposicao de strng\n",
    "idade = 20\n",
    "print('joao tem %d anos' % idade)"
   ]
  },
  {
   "cell_type": "code",
   "execution_count": 18,
   "metadata": {
    "collapsed": false
   },
   "outputs": [
    {
     "name": "stdout",
     "output_type": "stream",
     "text": [
      "maria tem 20 anos\n"
     ]
    }
   ],
   "source": [
    "#conposicao de strng tipos de variaveis\n",
    "nome = 'maria'\n",
    "idade = 20\n",
    "print('%s tem %d anos' % (nome, idade))"
   ]
  },
  {
   "cell_type": "code",
   "execution_count": 20,
   "metadata": {
    "collapsed": false
   },
   "outputs": [
    {
     "name": "stdout",
     "output_type": "stream",
     "text": [
      "3.123\n"
     ]
    }
   ],
   "source": [
    "#conposicao com ponto flutuante\n",
    "media = 3.123456\n",
    "print('%.3f' % media)"
   ]
  },
  {
   "cell_type": "code",
   "execution_count": 21,
   "metadata": {
    "collapsed": false
   },
   "outputs": [
    {
     "name": "stdout",
     "output_type": "stream",
     "text": [
      "2336884880864\n",
      "2336884880864\n"
     ]
    }
   ],
   "source": [
    "#--strig é imutavel--\n",
    "nome = 'edu'\n",
    "nome2 = nome\n",
    "print(id(nome))\n",
    "print(id(nome2))"
   ]
  },
  {
   "cell_type": "code",
   "execution_count": 22,
   "metadata": {
    "collapsed": false
   },
   "outputs": [
    {
     "name": "stdout",
     "output_type": "stream",
     "text": [
      "2336884880864\n",
      "2336884880864\n"
     ]
    }
   ],
   "source": [
    "#--strig é posteiro--\n",
    "nome = 'edu'\n",
    "nome2 = 'edu'\n",
    "print(id(nome))\n",
    "print(id(nome2))"
   ]
  },
  {
   "cell_type": "code",
   "execution_count": 23,
   "metadata": {
    "collapsed": false
   },
   "outputs": [
    {
     "name": "stdout",
     "output_type": "stream",
     "text": [
      "2336884880864\n",
      "2336884880584\n"
     ]
    }
   ],
   "source": [
    "#--strig é posteiro--\n",
    "nome = 'edu'\n",
    "nome2 = 'du'\n",
    "print(id(nome))\n",
    "print(id(nome2))"
   ]
  },
  {
   "cell_type": "code",
   "execution_count": null,
   "metadata": {
    "collapsed": true
   },
   "outputs": [],
   "source": []
  }
 ],
 "metadata": {
  "kernelspec": {
   "display_name": "Python 3",
   "language": "python",
   "name": "python3"
  },
  "language_info": {
   "codemirror_mode": {
    "name": "ipython",
    "version": 3
   },
   "file_extension": ".py",
   "mimetype": "text/x-python",
   "name": "python",
   "nbconvert_exporter": "python",
   "pygments_lexer": "ipython3",
   "version": "3.6.0"
  }
 },
 "nbformat": 4,
 "nbformat_minor": 2
}
