{
 "cells": [
  {
   "cell_type": "raw",
   "metadata": {},
   "source": [
    "logica para criar varias recompenças aleatoridamente\n",
    "\n",
    "colocar o robo no mata"
   ]
  },
  {
   "cell_type": "code",
   "execution_count": 27,
   "metadata": {
    "collapsed": false
   },
   "outputs": [],
   "source": [
    "class Ponit(object):\n",
    "    \n",
    "    def __init__(self, x, y):\n",
    "        self.x = x\n",
    "        self.y = y\n",
    "    \n",
    "    def __str__(self):\n",
    "        return '<%s,%s>' % (self.x, self.y)\n",
    "        \n",
    "class Reward(Ponit):\n",
    "    \n",
    "    def __init__(self, x, y, name):\n",
    "        super(Reward, self).__init__(x,y)\n",
    "        self.name = name\n",
    "    \n",
    "    def __str__(self):\n",
    "        return '<%s,%s>: %s' % (self.x, self.y, self.name)\n",
    "    \n",
    "    def __repr__(self):\n",
    "        return 'Reward %s' % str(self)\n",
    "\n",
    "class Robo(Ponit):\n",
    "        \n",
    "    def move_up(self):\n",
    "        if self.y < 10:\n",
    "            self.y = self.y + 1\n",
    "        else:\n",
    "            print('nao pode sair')\n",
    "    \n",
    "    def move_down(self):\n",
    "        if self.y > 0:\n",
    "            self.y = self.y - 1\n",
    "        else:\n",
    "            print('nao pode sair')\n",
    "        \n",
    "    def move_left(self):\n",
    "        if self.x > 0:\n",
    "            self.x = self.x - 1\n",
    "        else:\n",
    "            print('nao pode sair')\n",
    "    \n",
    "    def move_right(self):\n",
    "        if self.x < 10:\n",
    "            self.x = self.x + 1\n",
    "        else:\n",
    "            print('nao pode sair')"
   ]
  },
  {
   "cell_type": "code",
   "execution_count": 2,
   "metadata": {
    "collapsed": true
   },
   "outputs": [],
   "source": [
    "def check_rewards(robo, rewards):\n",
    "    ok = False\n",
    "    for reward in rewards:\n",
    "        if reward.x == robo.x and reward.y == robo.y:\n",
    "            print('robo encontrou', reward.name)\n",
    "            ok = True\n",
    "    return ok"
   ]
  },
  {
   "cell_type": "code",
   "execution_count": 3,
   "metadata": {
    "collapsed": true
   },
   "outputs": [],
   "source": [
    "import random"
   ]
  },
  {
   "cell_type": "code",
   "execution_count": 25,
   "metadata": {
    "collapsed": true
   },
   "outputs": [],
   "source": [
    "r1 = Reward(random.randint(0,10), random.randint(0,10), 'moeda')\n",
    "r2 = Reward(random.randint(0,10), random.randint(0,10), 'gas')\n",
    "r3 = Reward(random.randint(0,10), random.randint(0,10), 'arm')\n",
    "rewards = [r1,r2,r3]"
   ]
  },
  {
   "cell_type": "code",
   "execution_count": 5,
   "metadata": {
    "collapsed": false
   },
   "outputs": [
    {
     "data": {
      "text/plain": [
       "[<__main__.Reward at 0x183e9e987f0>,\n",
       " <__main__.Reward at 0x183e9e98908>,\n",
       " <__main__.Reward at 0x183e9e98828>]"
      ]
     },
     "execution_count": 5,
     "metadata": {},
     "output_type": "execute_result"
    }
   ],
   "source": [
    "rewards #ele imprimi o metodo REPR que nao foi sobre escrito"
   ]
  },
  {
   "cell_type": "code",
   "execution_count": 20,
   "metadata": {
    "collapsed": false
   },
   "outputs": [
    {
     "name": "stdout",
     "output_type": "stream",
     "text": [
      "<3,6>: moeda\n"
     ]
    },
    {
     "data": {
      "text/plain": [
       "'<3,6>: moeda'"
      ]
     },
     "execution_count": 20,
     "metadata": {},
     "output_type": "execute_result"
    }
   ],
   "source": [
    "print(r1)#funcao print é a chamada do STR\n",
    "str(r1)#ele imprimi o metodo str(representacao em string) que nao foi sobre escrito"
   ]
  },
  {
   "cell_type": "code",
   "execution_count": 21,
   "metadata": {
    "collapsed": false
   },
   "outputs": [
    {
     "data": {
      "text/plain": [
       "'<__main__.Reward object at 0x00000183E9FFA978>'"
      ]
     },
     "execution_count": 21,
     "metadata": {},
     "output_type": "execute_result"
    }
   ],
   "source": [
    "r1.__repr__()#metodos magicos usam __"
   ]
  },
  {
   "cell_type": "code",
   "execution_count": 26,
   "metadata": {
    "collapsed": false
   },
   "outputs": [
    {
     "data": {
      "text/plain": [
       "[Reward <0,8>: moeda, Reward <9,7>: gas, Reward <4,0>: arm]"
      ]
     },
     "execution_count": 26,
     "metadata": {},
     "output_type": "execute_result"
    }
   ],
   "source": [
    "rewards#quando foi sobre escrito"
   ]
  },
  {
   "cell_type": "code",
   "execution_count": 28,
   "metadata": {
    "collapsed": true
   },
   "outputs": [],
   "source": [
    "robo = Robo(random.randint(0,10), random.randint(0,10))"
   ]
  },
  {
   "cell_type": "code",
   "execution_count": 30,
   "metadata": {
    "collapsed": false
   },
   "outputs": [
    {
     "data": {
      "text/plain": [
       "'<3,5>'"
      ]
     },
     "execution_count": 30,
     "metadata": {},
     "output_type": "execute_result"
    }
   ],
   "source": [
    "str(robo)"
   ]
  },
  {
   "cell_type": "code",
   "execution_count": null,
   "metadata": {
    "collapsed": true
   },
   "outputs": [],
   "source": []
  }
 ],
 "metadata": {
  "kernelspec": {
   "display_name": "Python 3",
   "language": "python",
   "name": "python3"
  },
  "language_info": {
   "codemirror_mode": {
    "name": "ipython",
    "version": 3
   },
   "file_extension": ".py",
   "mimetype": "text/x-python",
   "name": "python",
   "nbconvert_exporter": "python",
   "pygments_lexer": "ipython3",
   "version": "3.6.0"
  }
 },
 "nbformat": 4,
 "nbformat_minor": 2
}
