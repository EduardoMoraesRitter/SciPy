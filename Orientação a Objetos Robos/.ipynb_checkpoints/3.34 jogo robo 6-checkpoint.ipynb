{
<<<<<<< HEAD
 "cells": [],
 "metadata": {},
=======
 "cells": [
  {
   "cell_type": "code",
   "execution_count": 1,
   "metadata": {
    "collapsed": true
   },
   "outputs": [],
   "source": [
    "class Ponit(object):\n",
    "    \n",
    "    def __init__(self, x, y):\n",
    "        self.x = x\n",
    "        self.y = y\n",
    "    \n",
    "    def __str__(self):\n",
    "        return '<%s,%s>' % (self.x, self.y)\n",
    "        \n",
    "class Reward(Ponit):\n",
    "    \n",
    "    def __init__(self, x, y, name):\n",
    "        super(Reward, self).__init__(x,y)\n",
    "        self.name = name\n",
    "    \n",
    "    def __str__(self):\n",
    "        return '<%s,%s>: %s' % (self.x, self.y, self.name)\n",
    "    \n",
    "    def __repr__(self):\n",
    "        return 'Reward %s' % str(self)\n",
    "\n",
    "class Robo(Ponit):\n",
    "        \n",
    "    def move_up(self):\n",
    "        if self.y < 10:\n",
    "            self.y = self.y + 1\n",
    "        else:\n",
    "            print('nao pode sair')\n",
    "    \n",
    "    def move_down(self):\n",
    "        if self.y > 0:\n",
    "            self.y = self.y - 1\n",
    "        else:\n",
    "            print('nao pode sair')\n",
    "        \n",
    "    def move_left(self):\n",
    "        if self.x > 0:\n",
    "            self.x = self.x - 1\n",
    "        else:\n",
    "            print('nao pode sair')\n",
    "    \n",
    "    def move_right(self):\n",
    "        if self.x < 10:\n",
    "            self.x = self.x + 1\n",
    "        else:\n",
    "            print('nao pode sair')"
   ]
  },
  {
   "cell_type": "code",
   "execution_count": 2,
   "metadata": {
    "collapsed": true
   },
   "outputs": [],
   "source": [
    "def check_rewards(robo, rewards):\n",
    "    ok = False\n",
    "    for reward in rewards:\n",
    "        if reward.x == robo.x and reward.y == robo.y:\n",
    "            print('robo encontrou', reward.name)\n",
    "            ok = True\n",
    "    return ok"
   ]
  },
  {
   "cell_type": "code",
   "execution_count": 7,
   "metadata": {
    "collapsed": false
   },
   "outputs": [],
   "source": [
    "import random\n",
    "r1 = Reward(random.randint(0,10), random.randint(0,10), 'moeda')\n",
    "r2 = Reward(random.randint(0,10), random.randint(0,10), 'gas')\n",
    "r3 = Reward(random.randint(0,10), random.randint(0,10), 'arm')\n",
    "r4 = Reward(random.randint(0,10), random.randint(0,10), 'moeda')\n",
    "r5 = Reward(random.randint(0,10), random.randint(0,10), 'gas')\n",
    "r6 = Reward(random.randint(0,10), random.randint(0,10), 'arm')\n",
    "rewards = [r1,r2,r3,r4,r5,r6]\n",
    "robo = Robo(random.randint(0,10), random.randint(0,10))"
   ]
  },
  {
   "cell_type": "code",
   "execution_count": null,
   "metadata": {
    "collapsed": false
   },
   "outputs": [
    {
     "name": "stdout",
     "output_type": "stream",
     "text": [
      "Digite up, donw, left ou right, para: up\n",
      "<6,9>\n",
      "Digite up, donw, left ou right, para: up\n",
      "<6,10>\n",
      "Digite up, donw, left ou right, para: left\n",
      "<5,10>\n",
      "Digite up, donw, left ou right, para: down\n",
      "<5,9>\n",
      "robo encontrou gas\n"
     ]
    }
   ],
   "source": [
    "for i in range(10):\n",
    "    movimento = input('Digite up, donw, left ou right, para: ')\n",
    "    if movimento == 'up':\n",
    "        robo.move_up()\n",
    "    elif movimento == 'down':\n",
    "        robo.move_down()\n",
    "    elif movimento == 'left':\n",
    "        robo.move_left()\n",
    "    elif movimento == 'right':\n",
    "        robo.move_right()\n",
    "    else:\n",
    "        print('movimento invalido')\n",
    "        continue\n",
    "    print(robo)\n",
    "    check_rewards(robo, rewards)"
   ]
  },
  {
   "cell_type": "code",
   "execution_count": null,
   "metadata": {
    "collapsed": true
   },
   "outputs": [],
   "source": []
  }
 ],
 "metadata": {
  "kernelspec": {
   "display_name": "Python 3",
   "language": "python",
   "name": "python3"
  },
  "language_info": {
   "codemirror_mode": {
    "name": "ipython",
    "version": 3
   },
   "file_extension": ".py",
   "mimetype": "text/x-python",
   "name": "python",
   "nbconvert_exporter": "python",
   "pygments_lexer": "ipython3",
   "version": "3.6.0"
  }
 },
>>>>>>> origin/master
 "nbformat": 4,
 "nbformat_minor": 2
}
